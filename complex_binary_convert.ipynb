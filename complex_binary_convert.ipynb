{
 "cells": [
  {
   "cell_type": "code",
   "execution_count": 25,
   "id": "18a6f03e",
   "metadata": {},
   "outputs": [],
   "source": [
    "import numpy as np\n",
    "from copy import copy"
   ]
  },
  {
   "cell_type": "code",
   "execution_count": 26,
   "id": "00929dbe",
   "metadata": {},
   "outputs": [],
   "source": [
    "def convert_to_complex_binary(number):\n",
    "    \"\"\"\n",
    "    Converts integer to complex binary representation.\n",
    "    \n",
    "    Args:\n",
    "        number: int: Number to convert.\n",
    "    \n",
    "    Returns:\n",
    "        tuple: (Based, Based-4, Normalized, Binary String) \n",
    "    \"\"\"\n",
    "    \n",
    "    rev_list=list()\n",
    "    based_list=list(np.base_repr(number, base=4, padding=0))\n",
    "    r1 = copy(based_list)\n",
    "\n",
    "    j = 0\n",
    "    for i in reversed(based_list):\n",
    "        if(j%2==0):\n",
    "            rev_list.append(int(i))\n",
    "        else:\n",
    "            rev_list.append(-int(i))\n",
    "        j=j+1\n",
    "\n",
    "    rev_list = rev_list[::-1]\n",
    "    r2 = copy(rev_list)\n",
    "\n",
    "    normalized = list()\n",
    "    overflow = False\n",
    "    for i in range(1, rev_list.__len__() + 1):\n",
    "        control = rev_list[-i]\n",
    "        if control < 0:\n",
    "            added = control + 4\n",
    "            try:\n",
    "                rev_list[-i-1] += 1\n",
    "            except IndexError:\n",
    "                overflow = True\n",
    "        else:\n",
    "            added = control\n",
    "        normalized.append(added)\n",
    "\n",
    "        if overflow:\n",
    "            normalized.append(1)\n",
    "\n",
    "    normalized = normalized[::-1]\n",
    "\n",
    "    for i in range(normalized.__len__()):\n",
    "        # May occur an underflow.\n",
    "        if normalized[i] == 4:\n",
    "            normalized[i] = 0\n",
    "            normalized[i-1] -= 1\n",
    "            normalized[i-1] = normalized[i-1]%4 \n",
    "    \n",
    "    r3 = copy(normalized)\n",
    "\n",
    "    base_dict = {0: \"0000\", 1: \"0001\", 2: \"1100\", 3: \"1101\"}\n",
    "    \n",
    "    base_string = str()\n",
    "    for num in normalized:\n",
    "        base_string += f\"{base_dict[num]} \"\n",
    "    \n",
    "    r4 = copy(base_string)\n",
    "    return r1, r2, r3, r4"
   ]
  },
  {
   "cell_type": "code",
   "execution_count": 27,
   "id": "8bd05501",
   "metadata": {},
   "outputs": [
    {
     "name": "stdout",
     "output_type": "stream",
     "text": [
      "Number to Convert:  2005\n",
      "Based Str:  ['1', '3', '3', '1', '1', '1']\n",
      "Based -4:  [-1, 3, -3, 1, -1, 1]\n",
      "Normalized:  [1, 2, 0, 1, 2, 3, 1]\n",
      "Binary String:  0001 1100 0000 0001 1100 1101 0001 \n"
     ]
    }
   ],
   "source": [
    "# Change this number \n",
    "number = 2005\n",
    "based, based4, normalized, bin_str = convert_to_complex_binary(number)\n",
    "\n",
    "print(\"Number to Convert: \", number)\n",
    "print(\"Based Str: \", based_list)\n",
    "print(\"Based -4: \", based4)\n",
    "print(\"Normalized: \", normalized)\n",
    "print(\"Binary String: \", bin_str)"
   ]
  },
  {
   "cell_type": "code",
   "execution_count": null,
   "id": "e1487e1e",
   "metadata": {},
   "outputs": [],
   "source": []
  }
 ],
 "metadata": {
  "kernelspec": {
   "display_name": "Python 3 (ipykernel)",
   "language": "python",
   "name": "python3"
  },
  "language_info": {
   "codemirror_mode": {
    "name": "ipython",
    "version": 3
   },
   "file_extension": ".py",
   "mimetype": "text/x-python",
   "name": "python",
   "nbconvert_exporter": "python",
   "pygments_lexer": "ipython3",
   "version": "3.10.5"
  }
 },
 "nbformat": 4,
 "nbformat_minor": 5
}
